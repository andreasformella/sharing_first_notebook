{
 "cells": [
  {
   "cell_type": "markdown",
   "id": "b50f6e43-69cf-41bc-bbc6-76440884f7dd",
   "metadata": {},
   "source": [
    "# Data Science Tools and Ecosystem"
   ]
  },
  {
   "cell_type": "markdown",
   "id": "b9d92b12-9302-4798-bad0-c28e9b5d851e",
   "metadata": {},
   "source": [
    "In this notebook, Data Science Tools and Ecosystem are summarized."
   ]
  },
  {
   "cell_type": "markdown",
   "id": "8b8ccb16-3063-41c0-9770-47916ba4a851",
   "metadata": {},
   "source": [
    "**Objectives:**\n",
    "1. different formating\n",
    "2. markdown vs code cells\n",
    "3. publishing on GitHub"
   ]
  },
  {
   "cell_type": "markdown",
   "id": "44f1ea8a-b4cc-458e-981a-c6bba7906478",
   "metadata": {},
   "source": [
    "Some of the popular languages that Data Scientists use are:\n",
    "1. Python\n",
    "2. R\n",
    "3. C++\n",
    "4. Java"
   ]
  },
  {
   "cell_type": "markdown",
   "id": "e192dd17-2426-40ca-948c-f64f59d8c83b",
   "metadata": {},
   "source": [
    "Some of the commonly used libraries used by Data Scientists include:\n",
    "1. TensorFlow\n",
    "2. NumPy\n",
    "3. Pandas\n",
    "4. Scipy\n",
    "5. Matplotlib"
   ]
  },
  {
   "cell_type": "markdown",
   "id": "4709f232-1366-48b7-af1e-d3fdf44529d2",
   "metadata": {},
   "source": [
    "| Data Science Tools |\n",
    "|:--------:|\n",
    "|  Panda   |\n",
    "|  Hadoop   |\n",
    "|  Spark  |"
   ]
  },
  {
   "cell_type": "markdown",
   "id": "4ac9914b-f153-4c2a-9a4c-3d3dd31500d9",
   "metadata": {},
   "source": [
    "### Below are a few examples of evaluating arithmetic expressions in Python\n"
   ]
  },
  {
   "cell_type": "code",
   "execution_count": 3,
   "id": "cf1d7eda-bb8e-4cd2-956a-d0a2213c3da2",
   "metadata": {},
   "outputs": [
    {
     "data": {
      "text/plain": [
       "17"
      ]
     },
     "execution_count": 3,
     "metadata": {},
     "output_type": "execute_result"
    }
   ],
   "source": [
    "#This a simple arithmetic expression to mutiply then add integers\n",
    "(3*4)+5"
   ]
  },
  {
   "cell_type": "code",
   "execution_count": 4,
   "id": "b4bf299c-2cb9-4a17-a314-dc3d44cf81e6",
   "metadata": {},
   "outputs": [
    {
     "data": {
      "text/plain": [
       "3.3333333333333335"
      ]
     },
     "execution_count": 4,
     "metadata": {},
     "output_type": "execute_result"
    }
   ],
   "source": [
    "#This will convert 200 minutes to hours by diving by 60\n",
    "200/60"
   ]
  },
  {
   "cell_type": "markdown",
   "id": "8578b982-5068-48e7-9898-9c25b0cb81d6",
   "metadata": {},
   "source": [
    "## Author\n",
    "Andreas Formella"
   ]
  }
 ],
 "metadata": {
  "kernelspec": {
   "display_name": "Python 3 (ipykernel)",
   "language": "python",
   "name": "python3"
  },
  "language_info": {
   "codemirror_mode": {
    "name": "ipython",
    "version": 3
   },
   "file_extension": ".py",
   "mimetype": "text/x-python",
   "name": "python",
   "nbconvert_exporter": "python",
   "pygments_lexer": "ipython3",
   "version": "3.12.0"
  }
 },
 "nbformat": 4,
 "nbformat_minor": 5
}
